{
 "cells": [
  {
   "cell_type": "markdown",
   "metadata": {},
   "source": [
    "# CityBikes"
   ]
  },
  {
   "cell_type": "markdown",
   "metadata": {},
   "source": [
    "Send a request to CityBikes for the city of your choice. "
   ]
  },
  {
   "cell_type": "code",
   "execution_count": 2,
   "metadata": {},
   "outputs": [],
   "source": [
    "import pandas as pd\n",
    "import json\n",
    "import requests"
   ]
  },
  {
   "cell_type": "markdown",
   "metadata": {},
   "source": [
    "Parse through the response to get the details you want for the bike stations in that city (latitude, longitude, number of bikes). "
   ]
  },
  {
   "cell_type": "code",
   "execution_count": 3,
   "metadata": {},
   "outputs": [],
   "source": [
    "torontoJson = \"http://api.citybik.es/v2/networks/bixi-toronto\"\n",
    "bikeData = pd.read_json(torontoJson)['network']['stations']\n",
    "\n",
    "address =[]\n",
    "latitude = []\n",
    "longitude = []\n",
    "freeBikes =[]\n",
    "\n",
    "\n",
    "\n",
    "\n",
    "for i in bikeData:\n",
    "    address.append(i['extra']['address'])\n",
    "    latitude.append(i['latitude'])\n",
    "    longitude.append(i['longitude'])\n",
    "    freeBikes.append(i['free_bikes'])\n",
    "\n",
    "\n",
    "\n"
   ]
  },
  {
   "cell_type": "markdown",
   "metadata": {},
   "source": [
    "Put your parsed results into a DataFrame."
   ]
  },
  {
   "cell_type": "code",
   "execution_count": 4,
   "metadata": {},
   "outputs": [
    {
     "data": {
      "text/html": [
       "<div>\n",
       "<style scoped>\n",
       "    .dataframe tbody tr th:only-of-type {\n",
       "        vertical-align: middle;\n",
       "    }\n",
       "\n",
       "    .dataframe tbody tr th {\n",
       "        vertical-align: top;\n",
       "    }\n",
       "\n",
       "    .dataframe thead th {\n",
       "        text-align: right;\n",
       "    }\n",
       "</style>\n",
       "<table border=\"1\" class=\"dataframe\">\n",
       "  <thead>\n",
       "    <tr style=\"text-align: right;\">\n",
       "      <th></th>\n",
       "      <th>address</th>\n",
       "      <th>latitude</th>\n",
       "      <th>longitude</th>\n",
       "      <th>freeBikes</th>\n",
       "    </tr>\n",
       "  </thead>\n",
       "  <tbody>\n",
       "    <tr>\n",
       "      <th>0</th>\n",
       "      <td>Queen St E / Woodward Ave</td>\n",
       "      <td>43.665269</td>\n",
       "      <td>-79.319796</td>\n",
       "      <td>19</td>\n",
       "    </tr>\n",
       "    <tr>\n",
       "      <th>1</th>\n",
       "      <td>Primrose Ave / Davenport Rd</td>\n",
       "      <td>43.671420</td>\n",
       "      <td>-79.445947</td>\n",
       "      <td>5</td>\n",
       "    </tr>\n",
       "    <tr>\n",
       "      <th>2</th>\n",
       "      <td>Queen St. E / Rhodes Ave.</td>\n",
       "      <td>43.666224</td>\n",
       "      <td>-79.317693</td>\n",
       "      <td>9</td>\n",
       "    </tr>\n",
       "    <tr>\n",
       "      <th>3</th>\n",
       "      <td>Bond St / Queen St E</td>\n",
       "      <td>43.653236</td>\n",
       "      <td>-79.376716</td>\n",
       "      <td>12</td>\n",
       "    </tr>\n",
       "    <tr>\n",
       "      <th>4</th>\n",
       "      <td>Church St / Alexander St</td>\n",
       "      <td>43.663722</td>\n",
       "      <td>-79.380288</td>\n",
       "      <td>0</td>\n",
       "    </tr>\n",
       "    <tr>\n",
       "      <th>...</th>\n",
       "      <td>...</td>\n",
       "      <td>...</td>\n",
       "      <td>...</td>\n",
       "      <td>...</td>\n",
       "    </tr>\n",
       "    <tr>\n",
       "      <th>650</th>\n",
       "      <td>Tobemory Dr / Finch Hydro Recreational Trail</td>\n",
       "      <td>43.761174</td>\n",
       "      <td>-79.511445</td>\n",
       "      <td>18</td>\n",
       "    </tr>\n",
       "    <tr>\n",
       "      <th>651</th>\n",
       "      <td>The Well</td>\n",
       "      <td>43.642890</td>\n",
       "      <td>-79.394635</td>\n",
       "      <td>17</td>\n",
       "    </tr>\n",
       "    <tr>\n",
       "      <th>652</th>\n",
       "      <td>Driftwood Ave / Finch Hydro Trail</td>\n",
       "      <td>43.760362</td>\n",
       "      <td>-79.516278</td>\n",
       "      <td>10</td>\n",
       "    </tr>\n",
       "    <tr>\n",
       "      <th>653</th>\n",
       "      <td>45 Grand Avenue</td>\n",
       "      <td>43.623130</td>\n",
       "      <td>-79.491800</td>\n",
       "      <td>15</td>\n",
       "    </tr>\n",
       "    <tr>\n",
       "      <th>654</th>\n",
       "      <td>1804 Ian Macdonald Boulevard</td>\n",
       "      <td>43.772445</td>\n",
       "      <td>-79.511912</td>\n",
       "      <td>0</td>\n",
       "    </tr>\n",
       "  </tbody>\n",
       "</table>\n",
       "<p>655 rows × 4 columns</p>\n",
       "</div>"
      ],
      "text/plain": [
       "                                          address   latitude  longitude  \\\n",
       "0                       Queen St E / Woodward Ave  43.665269 -79.319796   \n",
       "1                     Primrose Ave / Davenport Rd  43.671420 -79.445947   \n",
       "2                       Queen St. E / Rhodes Ave.  43.666224 -79.317693   \n",
       "3                            Bond St / Queen St E  43.653236 -79.376716   \n",
       "4                        Church St / Alexander St  43.663722 -79.380288   \n",
       "..                                            ...        ...        ...   \n",
       "650  Tobemory Dr / Finch Hydro Recreational Trail  43.761174 -79.511445   \n",
       "651                                      The Well  43.642890 -79.394635   \n",
       "652             Driftwood Ave / Finch Hydro Trail  43.760362 -79.516278   \n",
       "653                               45 Grand Avenue  43.623130 -79.491800   \n",
       "654                  1804 Ian Macdonald Boulevard  43.772445 -79.511912   \n",
       "\n",
       "     freeBikes  \n",
       "0           19  \n",
       "1            5  \n",
       "2            9  \n",
       "3           12  \n",
       "4            0  \n",
       "..         ...  \n",
       "650         18  \n",
       "651         17  \n",
       "652         10  \n",
       "653         15  \n",
       "654          0  \n",
       "\n",
       "[655 rows x 4 columns]"
      ]
     },
     "execution_count": 4,
     "metadata": {},
     "output_type": "execute_result"
    }
   ],
   "source": [
    "\n",
    "df = pd.DataFrame(\n",
    "    {\n",
    "        'address': address,\n",
    "        'latitude': latitude,\n",
    "        'longitude': longitude,\n",
    "        \"freeBikes\": freeBikes\n",
    "    }\n",
    ")\n",
    "\n",
    "df.to_csv('bikeData.csv', index=False, sep = ',')\n",
    "\n",
    "df\n",
    "\n"
   ]
  },
  {
   "cell_type": "markdown",
   "metadata": {},
   "source": []
  }
 ],
 "metadata": {
  "kernelspec": {
   "display_name": "Python 3.11.0 64-bit",
   "language": "python",
   "name": "python3"
  },
  "language_info": {
   "codemirror_mode": {
    "name": "ipython",
    "version": 3
   },
   "file_extension": ".py",
   "mimetype": "text/x-python",
   "name": "python",
   "nbconvert_exporter": "python",
   "pygments_lexer": "ipython3",
   "version": "3.11.0"
  },
  "vscode": {
   "interpreter": {
    "hash": "c261aea317cc0286b3b3261fbba9abdec21eaa57589985bb7a274bf54d6cc0a7"
   }
  }
 },
 "nbformat": 4,
 "nbformat_minor": 4
}
